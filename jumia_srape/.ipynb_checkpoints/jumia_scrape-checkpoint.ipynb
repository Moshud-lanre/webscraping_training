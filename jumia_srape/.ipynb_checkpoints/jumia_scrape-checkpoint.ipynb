{
 "cells": [
  {
   "cell_type": "markdown",
   "metadata": {},
   "source": [
    "### Install libraries"
   ]
  },
  {
   "cell_type": "code",
   "execution_count": null,
   "metadata": {
    "vscode": {
     "languageId": "plaintext"
    }
   },
   "outputs": [],
   "source": [
    "pip install requests bs4 fake_useragent pandas"
   ]
  },
  {
   "cell_type": "code",
   "execution_count": 3,
   "metadata": {
    "vscode": {
     "languageId": "plaintext"
    }
   },
   "outputs": [],
   "source": [
    "import requests\n",
    "from bs4 import BeautifulSoup\n",
    "from fake_useragent import UserAgent\n",
    "import pandas as pd "
   ]
  },
  {
   "cell_type": "code",
   "execution_count": null,
   "metadata": {
    "vscode": {
     "languageId": "plaintext"
    }
   },
   "outputs": [],
   "source": [
    "url = 'https://www.jumia.com.ng/mlp-home-entertainment/?tag=Camp_91--Camp_92'\n",
    "hd = UserAgent()\n",
    "userAgent = hd.random\n",
    "headers = {'User-Agent': userAgent}\n",
    "\n",
    "page = requests.get(url, headers = headers)\n",
    "soup = BeautifulSoup(page.content,'html.parser')\n"
   ]
  },
  {
   "cell_type": "code",
   "execution_count": null,
   "metadata": {},
   "outputs": [],
   "source": [
    "inverter_list = soup.find_all('div', class_ = \"-paxs row _no-g _4cl-3cm-shs\")\n",
    "\n",
    "names = []\n",
    "prices = []\n",
    "star_ratings = []\n",
    "\n",
    "for list in inverter_list:\n",
    "\n",
    "    #names\n",
    "    if list.find('h3', class_ = 'name') is not None:\n",
    "        name = box.find('h3', class_ = 'name')\n",
    "        names.append(name.text)\n",
    "    else:\n",
    "        names.append('None')\n",
    "\n",
    "    #prices\n",
    "    if box.find('div', class_ = 'prc') is not None:\n",
    "        price = box.find('div', class_ = 'prc')\n",
    "        prices.append(price.text)\n",
    "    else:\n",
    "        prices.append('None')\n",
    "\n",
    "    #star_rating\n",
    "    if list.find('div', class_ = 'stars _s') is not None:\n",
    "        star_vote = box.find('div', class_ = 'stars _s')\n",
    "        star_ratings.append(star_vote.text)\n",
    "    else:\n",
    "        star_ratings.append('None')\n",
    "\n",
    "names\n",
    "\n",
    "# inverter_df = pd.DataFrame({\n",
    "#     'name':names,\n",
    "#     'prices': prices,\n",
    "#     'star': star_ratings\n",
    "# })\n",
    "# inverter_df"
   ]
  }
 ],
 "metadata": {
  "kernelspec": {
   "display_name": "Python 3 (ipykernel)",
   "language": "python",
   "name": "python3"
  },
  "language_info": {
   "codemirror_mode": {
    "name": "ipython",
    "version": 3
   },
   "file_extension": ".py",
   "mimetype": "text/x-python",
   "name": "python",
   "nbconvert_exporter": "python",
   "pygments_lexer": "ipython3",
   "version": "3.11.2"
  }
 },
 "nbformat": 4,
 "nbformat_minor": 2
}
