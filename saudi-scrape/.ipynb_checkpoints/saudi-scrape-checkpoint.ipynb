{
 "cells": [
  {
   "cell_type": "markdown",
   "id": "1b0b2d39",
   "metadata": {},
   "source": [
    "## Import   libraries"
   ]
  },
  {
   "cell_type": "code",
   "execution_count": 3,
   "id": "1dc557c7",
   "metadata": {
    "scrolled": true
   },
   "outputs": [
    {
     "name": "stdout",
     "output_type": "stream",
     "text": [
      "Requirement already satisfied: requests in c:\\users\\hp\\appdata\\local\\programs\\python\\python311\\lib\\site-packages (2.31.0)\n",
      "Requirement already satisfied: bs4 in c:\\users\\hp\\appdata\\local\\programs\\python\\python311\\lib\\site-packages (0.0.2)\n",
      "Requirement already satisfied: pandas in c:\\users\\hp\\appdata\\local\\programs\\python\\python311\\lib\\site-packages (2.1.4)\n",
      "Requirement already satisfied: charset-normalizer<4,>=2 in c:\\users\\hp\\appdata\\local\\programs\\python\\python311\\lib\\site-packages (from requests) (3.3.2)\n",
      "Requirement already satisfied: idna<4,>=2.5 in c:\\users\\hp\\appdata\\local\\programs\\python\\python311\\lib\\site-packages (from requests) (3.4)\n",
      "Requirement already satisfied: urllib3<3,>=1.21.1 in c:\\users\\hp\\appdata\\local\\programs\\python\\python311\\lib\\site-packages (from requests) (2.0.7)\n",
      "Requirement already satisfied: certifi>=2017.4.17 in c:\\users\\hp\\appdata\\local\\programs\\python\\python311\\lib\\site-packages (from requests) (2023.11.17)\n",
      "Requirement already satisfied: beautifulsoup4 in c:\\users\\hp\\appdata\\local\\programs\\python\\python311\\lib\\site-packages (from bs4) (4.12.0)\n",
      "Requirement already satisfied: numpy<2,>=1.23.2 in c:\\users\\hp\\appdata\\local\\programs\\python\\python311\\lib\\site-packages (from pandas) (1.26.3)\n",
      "Requirement already satisfied: python-dateutil>=2.8.2 in c:\\users\\hp\\appdata\\local\\programs\\python\\python311\\lib\\site-packages (from pandas) (2.8.2)\n",
      "Requirement already satisfied: pytz>=2020.1 in c:\\users\\hp\\appdata\\local\\programs\\python\\python311\\lib\\site-packages (from pandas) (2023.3.post1)\n",
      "Requirement already satisfied: tzdata>=2022.1 in c:\\users\\hp\\appdata\\local\\programs\\python\\python311\\lib\\site-packages (from pandas) (2023.4)\n",
      "Requirement already satisfied: six>=1.5 in c:\\users\\hp\\appdata\\local\\programs\\python\\python311\\lib\\site-packages (from python-dateutil>=2.8.2->pandas) (1.16.0)\n",
      "Requirement already satisfied: soupsieve>1.2 in c:\\users\\hp\\appdata\\local\\programs\\python\\python311\\lib\\site-packages (from beautifulsoup4->bs4) (2.4)\n",
      "Note: you may need to restart the kernel to use updated packages.\n"
     ]
    },
    {
     "name": "stderr",
     "output_type": "stream",
     "text": [
      "\n",
      "[notice] A new release of pip is available: 23.0.1 -> 24.3.1\n",
      "[notice] To update, run: python.exe -m pip install --upgrade pip\n"
     ]
    }
   ],
   "source": [
    "pip install requests bs4"
   ]
  },
  {
   "cell_type": "markdown",
   "id": "1966083f",
   "metadata": {},
   "source": [
    "### Extraction"
   ]
  },
  {
   "cell_type": "code",
   "execution_count": 2,
   "id": "7352c8da",
   "metadata": {},
   "outputs": [],
   "source": [
    "import requests\n",
    "from bs4 import BeautifulSoup\n",
    "\n",
    "url = 'https://en.wikipedia.org/wiki/Saudi_Arabia'\n",
    "response = requests.get(url)\n",
    "\n",
    "soup = BeautifulSoup(response.content, 'html.parser')"
   ]
  },
  {
   "cell_type": "markdown",
   "id": "90c6445c",
   "metadata": {},
   "source": [
    "### Country Information"
   ]
  },
  {
   "cell_type": "code",
   "execution_count": 34,
   "id": "21eb3741",
   "metadata": {},
   "outputs": [
    {
     "name": "stdout",
     "output_type": "stream",
     "text": [
      "==========ROW=========\n",
      "Capitaland largest city\n",
      "==========ROW=========\n",
      "Official languages\n",
      "==========ROW=========\n",
      "Ethnic groups  (2014)[6][b]\n",
      "==========ROW=========\n",
      "Religion  (2010)[7]\n",
      "==========ROW=========\n",
      "Demonym(s)\n",
      "==========ROW=========\n",
      "Government\n",
      "==========ROW=========\n",
      "• King \n",
      "==========ROW=========\n",
      "• Crown Prince and Prime Minister \n",
      "==========ROW=========\n",
      "Legislature\n",
      "==========ROW=========\n",
      "• Emirate of Diriyah \n",
      "==========ROW=========\n",
      "• Emirate of Nejd \n",
      "==========ROW=========\n",
      "• Emirate of Riyadh \n",
      "==========ROW=========\n",
      "• Unification \n",
      "==========ROW=========\n",
      "• Admitted to the United Nations \n",
      "==========ROW=========\n",
      "• Current constitution \n",
      "==========ROW=========\n",
      "• Total\n",
      "==========ROW=========\n",
      "• Water (%)\n",
      "==========ROW=========\n",
      "• 2022 census\n",
      "==========ROW=========\n",
      "• Density\n",
      "==========ROW=========\n",
      "GDP (PPP)\n",
      "==========ROW=========\n",
      "• Total\n",
      "==========ROW=========\n",
      "• Per capita\n",
      "==========ROW=========\n",
      "GDP (nominal)\n",
      "==========ROW=========\n",
      "• Total\n",
      "==========ROW=========\n",
      "• Per capita\n",
      "==========ROW=========\n",
      "Gini (2013)\n",
      "==========ROW=========\n",
      "HDI (2022)\n",
      "==========ROW=========\n",
      "Currency\n",
      "==========ROW=========\n",
      "Time zone\n",
      "==========ROW=========\n",
      "Date format\n",
      "==========ROW=========\n",
      "Drives on\n",
      "==========ROW=========\n",
      "Calling code\n",
      "==========ROW=========\n",
      "ISO 3166 code\n",
      "==========ROW=========\n",
      "Internet TLD\n",
      "<<<<<<< Column >>>>>>>>\n",
      "Riyadh24°39′N 46°46′E﻿ / ﻿24.650°N 46.767°E﻿ / 24.650; 46.767\n",
      "<<<<<<< Column >>>>>>>>\n",
      "Arabic[5]\n",
      "<<<<<<< Column >>>>>>>>\n",
      "90% Arab  10% Afro-Arab  (for Saudi citizens only)\n",
      "<<<<<<< Column >>>>>>>>\n",
      "\n",
      "93.0% Islam\n",
      "85–90% Sunni (official)[8]\n",
      "10–15% Shia\n",
      "4.4% Christianity1.1% Hinduism0.7% unaffiliated0.3% Buddhism\n",
      "<<<<<<< Column >>>>>>>>\n",
      "SaudiSaudi Arabian\n",
      "<<<<<<< Column >>>>>>>>\n",
      "Unitary Islamic absolute monarchy\n",
      "<<<<<<< Column >>>>>>>>\n",
      "Salman\n",
      "<<<<<<< Column >>>>>>>>\n",
      "Mohammed bin Salman\n",
      "<<<<<<< Column >>>>>>>>\n",
      "none[c]\n",
      "<<<<<<< Column >>>>>>>>\n",
      "1727\n",
      "<<<<<<< Column >>>>>>>>\n",
      "1824\n",
      "<<<<<<< Column >>>>>>>>\n",
      "13 January 1902\n",
      "<<<<<<< Column >>>>>>>>\n",
      "23 September 1932\n",
      "<<<<<<< Column >>>>>>>>\n",
      "24 October 1945\n",
      "<<<<<<< Column >>>>>>>>\n",
      "31 January 1992\n",
      "<<<<<<< Column >>>>>>>>\n",
      "2,149,690[11] km2 (830,000 sq mi) (12th)\n",
      "<<<<<<< Column >>>>>>>>\n",
      "0.0\n",
      "<<<<<<< Column >>>>>>>>\n",
      " 32,175,224[12] (46th)\n",
      "<<<<<<< Column >>>>>>>>\n",
      "15/km2 (38.8/sq mi) (174th)\n",
      "<<<<<<< Column >>>>>>>>\n",
      "2024 estimate\n",
      "<<<<<<< Column >>>>>>>>\n",
      " $2.112 trillion[13] (17th)\n",
      "<<<<<<< Column >>>>>>>>\n",
      " $63,117[13] (15th)\n",
      "<<<<<<< Column >>>>>>>>\n",
      "2024 estimate\n",
      "<<<<<<< Column >>>>>>>>\n",
      " $1.100 trillion[13] (19th)\n",
      "<<<<<<< Column >>>>>>>>\n",
      " $32,881[13] (34th)\n",
      "<<<<<<< Column >>>>>>>>\n",
      " 45.9[14]medium inequality\n",
      "<<<<<<< Column >>>>>>>>\n",
      " 0.875[15]very high (40th)\n",
      "<<<<<<< Column >>>>>>>>\n",
      "Saudi riyal (SR)[d] (SAR)\n",
      "<<<<<<< Column >>>>>>>>\n",
      "UTC+3 (AST)\n",
      "<<<<<<< Column >>>>>>>>\n",
      "dd/mm/yyyy (AH)\n",
      "<<<<<<< Column >>>>>>>>\n",
      "right\n",
      "<<<<<<< Column >>>>>>>>\n",
      "+966\n",
      "<<<<<<< Column >>>>>>>>\n",
      "SA\n",
      "<<<<<<< Column >>>>>>>>\n",
      ".saالسعودية.\n"
     ]
    }
   ],
   "source": [
    "# Find all data for each column\n",
    "saudi_info = soup.find('table', class_='infobox ib-country vcard')\n",
    "\n",
    "# saudi_info\n",
    "\n",
    "\n",
    "\n",
    "for row in saudi_info.tbody.find_all('th', scope = 'row' ):    \n",
    "    print('==========ROW=========')\n",
    "    print(row.text)\n",
    "    \n",
    "for column in saudi_info.tbody.find_all('td', class_ = 'infobox-data'):\n",
    "    print('<<<<<<< Column >>>>>>>>')\n",
    "    print(column.text)\n",
    "\n",
    "    \n"
   ]
  },
  {
   "cell_type": "markdown",
   "id": "cfa91421",
   "metadata": {},
   "source": [
    "### History"
   ]
  },
  {
   "cell_type": "code",
   "execution_count": 23,
   "id": "db7f484e",
   "metadata": {},
   "outputs": [
    {
     "data": {
      "text/plain": [
       "'/wiki/History_of_Saudi_Arabia'"
      ]
     },
     "execution_count": 23,
     "metadata": {},
     "output_type": "execute_result"
    }
   ],
   "source": [
    "history_link = soup.find('a', title = 'History of Saudi Arabia')\n",
    "history_link['href']"
   ]
  },
  {
   "cell_type": "markdown",
   "id": "bac76dd5",
   "metadata": {},
   "source": [
    "### Demography"
   ]
  },
  {
   "cell_type": "code",
   "execution_count": 17,
   "id": "f219c5cd",
   "metadata": {},
   "outputs": [
    {
     "data": {
      "text/plain": [
       "'/wiki/Saudi_Arabian_people'"
      ]
     },
     "execution_count": 17,
     "metadata": {},
     "output_type": "execute_result"
    }
   ],
   "source": [
    "people_link = soup.find('a', title = 'Saudi Arabian people')\n",
    "people_link['href']"
   ]
  }
 ],
 "metadata": {
  "kernelspec": {
   "display_name": "Python 3 (ipykernel)",
   "language": "python",
   "name": "python3"
  },
  "language_info": {
   "codemirror_mode": {
    "name": "ipython",
    "version": 3
   },
   "file_extension": ".py",
   "mimetype": "text/x-python",
   "name": "python",
   "nbconvert_exporter": "python",
   "pygments_lexer": "ipython3",
   "version": "3.11.2"
  }
 },
 "nbformat": 4,
 "nbformat_minor": 5
}
